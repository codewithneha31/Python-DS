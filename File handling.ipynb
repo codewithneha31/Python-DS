{
 "cells": [
  {
   "cell_type": "code",
   "execution_count": null,
   "metadata": {},
   "outputs": [
    {
     "name": "stdout",
     "output_type": "stream",
     "text": [
      "content has been written to the file\n"
     ]
    }
   ],
   "source": [
    "# Writing to a file \n",
    "# open the file in write mode\n",
    "with open (\"p4n.txt\",\"w\") as file:\n",
    "    file.write(\"www.codewithpankaj.com\\n\")\n",
    "    file.write(\"learning python with @p4n.\\n\")\n",
    "    file.write(\"www.p4n.in.\\n\")\n",
    "\n",
    "    print(\"content has been written to the file\")\n"
   ]
  },
  {
   "cell_type": "code",
   "execution_count": 2,
   "metadata": {},
   "outputs": [
    {
     "name": "stdout",
     "output_type": "stream",
     "text": [
      "www.codewithpankaj.com\n",
      "learning python with @p4n.\n",
      "www.p4n.in.\n",
      "\n"
     ]
    }
   ],
   "source": [
    "# file operation \n",
    "# read file from system \n",
    "# open the file in read mode \n",
    "with open(\"p4n.txt\",\"r\")as file:\n",
    "    # Read the entire content of the file \n",
    "    content = file.read()\n",
    "    # print the content of file \n",
    "    print(content)\n",
    "    "
   ]
  },
  {
   "cell_type": "code",
   "execution_count": 3,
   "metadata": {},
   "outputs": [
    {
     "name": "stdout",
     "output_type": "stream",
     "text": [
      "content has been appended to the file.\n"
     ]
    }
   ],
   "source": [
    "# Appending to a file \n",
    "# Open the file in append mode \n",
    "with open(\"p4n.txt\",\"a\") as file:\n",
    "    # Append content to the file \n",
    "    file.write(\"python is the best programming....\")\n",
    "    print(\"content has been appended to the file.\")"
   ]
  },
  {
   "cell_type": "code",
   "execution_count": null,
   "metadata": {},
   "outputs": [],
   "source": [
    "# Read CSV file \n",
    "import csv\n",
    "# open the csv file for reading \n",
    "with open(\"data.csv\",\"r\") as file:\n",
    "    # create csv reader \n",
    "    csv_reader = csv.reader(file)\n",
    "    # skip the header row (if it exists)\n",
    "    next(csv_reader)\n",
    "    # Iterate  overeach row in the CSV file \n",
    "    for row in csv_reader:\n",
    "     name, age, country = row \n",
    "    \n",
    "    \n"
   ]
  }
 ],
 "metadata": {
  "kernelspec": {
   "display_name": "Python 3",
   "language": "python",
   "name": "python3"
  },
  "language_info": {
   "codemirror_mode": {
    "name": "ipython",
    "version": 3
   },
   "file_extension": ".py",
   "mimetype": "text/x-python",
   "name": "python",
   "nbconvert_exporter": "python",
   "pygments_lexer": "ipython3",
   "version": "3.13.2"
  }
 },
 "nbformat": 4,
 "nbformat_minor": 2
}
