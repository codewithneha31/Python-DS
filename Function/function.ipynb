{
 "cells": [
  {
   "cell_type": "code",
   "execution_count": 3,
   "metadata": {},
   "outputs": [
    {
     "name": "stdout",
     "output_type": "stream",
     "text": [
      "welcome to codeswithpankaj.com\n"
     ]
    }
   ],
   "source": [
    "# function basic\n",
    "\n",
    "# defining function\n",
    "# def keyword is used to define function\n",
    "# function name is msg\n",
    "\n",
    "\n",
    "# def FunctionName():\n",
    "#     output\n",
    "#     print...\n",
    "\n",
    "\n",
    "def msg():\n",
    "    print(\"welcome to codeswithpankaj.com\")\n",
    "\n",
    "\n",
    "\n",
    "# calling function \n",
    "\n",
    "msg()"
   ]
  },
  {
   "cell_type": "code",
   "execution_count": 4,
   "metadata": {},
   "outputs": [],
   "source": [
    "# function with arguments / peramiters\n",
    "\n",
    "# example \n",
    "# def FunctionName(Peramiters):\n",
    "#     output\n",
    "\n",
    "\n",
    "# def functionname(variable1, variable2):\n",
    "#     output\n",
    "\n",
    "\n",
    "def add(a,b):\n",
    "    c = a+b\n",
    "    print(\"result : \",c)"
   ]
  },
  {
   "cell_type": "code",
   "execution_count": 5,
   "metadata": {},
   "outputs": [
    {
     "name": "stdout",
     "output_type": "stream",
     "text": [
      "result :  30\n",
      "result :  40\n"
     ]
    }
   ],
   "source": [
    "# calling function\n",
    "\n",
    "add(10,20)\n",
    "add(10,30)"
   ]
  },
  {
   "cell_type": "code",
   "execution_count": 7,
   "metadata": {},
   "outputs": [],
   "source": [
    "# example 2\n",
    "\n",
    "\n",
    "\n",
    "def bill(price,gst):\n",
    "    gst_amount = price * gst / 100  # calculating gst amount\n",
    "    total = price + gst_amount  # calculating total amount\n",
    "    \n",
    "    print(\"price : \",price)\n",
    "    print(\"gst : \",gst)\n",
    "    print(\"gst amount : \",gst_amount)\n",
    "    print(\"total : \",total)\n",
    "    print(\"----------------------\")"
   ]
  },
  {
   "cell_type": "code",
   "execution_count": 9,
   "metadata": {},
   "outputs": [
    {
     "name": "stdout",
     "output_type": "stream",
     "text": [
      "price :  1200\n",
      "gst :  18\n",
      "gst amount :  216.0\n",
      "total :  1416.0\n",
      "----------------------\n",
      "price :  3400\n",
      "gst :  9\n",
      "gst amount :  306.0\n",
      "total :  3706.0\n",
      "----------------------\n",
      "price :  1000\n",
      "gst :  2\n",
      "gst amount :  20.0\n",
      "total :  1020.0\n",
      "----------------------\n"
     ]
    }
   ],
   "source": [
    "bill(1200,18)\n",
    "bill(3400,9)\n",
    "bill(1000,2)"
   ]
  }
 ],
 "metadata": {
  "language_info": {
   "name": "python"
  }
 },
 "nbformat": 4,
 "nbformat_minor": 2
}
